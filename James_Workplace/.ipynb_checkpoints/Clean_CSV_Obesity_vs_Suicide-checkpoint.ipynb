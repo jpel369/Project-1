{
 "cells": [
  {
   "cell_type": "code",
   "execution_count": 87,
   "metadata": {},
   "outputs": [],
   "source": [
    "import pandas as pd\n",
    "import numpy as np\n",
    "import matplotlib.pyplot as plt"
   ]
  },
  {
   "cell_type": "code",
   "execution_count": 88,
   "metadata": {},
   "outputs": [],
   "source": [
    "# Create DataFrame with U.S. population per State\n",
    "state_pop_df = pd.read_csv('scprc-est2014-18+pop-res.csv', index_col='NAME')\n",
    "state_pop_df.drop(columns=['SUMLEV','REGION','DIVISION','STATE','POPEST18PLUS2014','PCNT_POPEST18PLUS'], inplace=True)\n",
    "state_pop_df.rename(columns={'NAME':'STATE', 'POPESTIMATE2014':'POPULATION'}, inplace=True)"
   ]
  },
  {
   "cell_type": "code",
   "execution_count": 89,
   "metadata": {},
   "outputs": [],
   "source": [
    "# Create CSV file for new DataFrame\n",
    "state_pop_df.to_csv('state_population.csv', index=True)"
   ]
  },
  {
   "cell_type": "code",
   "execution_count": 90,
   "metadata": {},
   "outputs": [],
   "source": [
    "# Create DataFrame with U.S. Suicide Statistics per State\n",
    "suicide_by_state_df = pd.read_csv('Suicide Mortality by State.csv')\n",
    "suicide_by_state_df.drop(columns=['URL'], inplace=True)\n",
    "suicide_by_state_df['STATE'] = suicide_by_state_df['STATE'].map({\n",
    "        'AK': 'Alaska',\n",
    "        'AL': 'Alabama',\n",
    "        'AR': 'Arkansas',\n",
    "        'AS': 'American Samoa',\n",
    "        'AZ': 'Arizona',\n",
    "        'CA': 'California',\n",
    "        'CO': 'Colorado',\n",
    "        'CT': 'Connecticut',\n",
    "        'DC': 'District of Columbia',\n",
    "        'DE': 'Delaware',\n",
    "        'FL': 'Florida',\n",
    "        'GA': 'Georgia',\n",
    "        'GU': 'Guam',\n",
    "        'HI': 'Hawaii',\n",
    "        'IA': 'Iowa',\n",
    "        'ID': 'Idaho',\n",
    "        'IL': 'Illinois',\n",
    "        'IN': 'Indiana',\n",
    "        'KS': 'Kansas',\n",
    "        'KY': 'Kentucky',\n",
    "        'LA': 'Louisiana',\n",
    "        'MA': 'Massachusetts',\n",
    "        'MD': 'Maryland',\n",
    "        'ME': 'Maine',\n",
    "        'MI': 'Michigan',\n",
    "        'MN': 'Minnesota',\n",
    "        'MO': 'Missouri',\n",
    "        'MP': 'Northern Mariana Islands',\n",
    "        'MS': 'Mississippi',\n",
    "        'MT': 'Montana',\n",
    "        'NA': 'National',\n",
    "        'NC': 'North Carolina',\n",
    "        'ND': 'North Dakota',\n",
    "        'NE': 'Nebraska',\n",
    "        'NH': 'New Hampshire',\n",
    "        'NJ': 'New Jersey',\n",
    "        'NM': 'New Mexico',\n",
    "        'NV': 'Nevada',\n",
    "        'NY': 'New York',\n",
    "        'OH': 'Ohio',\n",
    "        'OK': 'Oklahoma',\n",
    "        'OR': 'Oregon',\n",
    "        'PA': 'Pennsylvania',\n",
    "        'PR': 'Puerto Rico',\n",
    "        'RI': 'Rhode Island',\n",
    "        'SC': 'South Carolina',\n",
    "        'SD': 'South Dakota',\n",
    "        'TN': 'Tennessee',\n",
    "        'TX': 'Texas',\n",
    "        'UT': 'Utah',\n",
    "        'VA': 'Virginia',\n",
    "        'VI': 'Virgin Islands',\n",
    "        'VT': 'Vermont',\n",
    "        'WA': 'Washington',\n",
    "        'WI': 'Wisconsin',\n",
    "        'WV': 'West Virginia',\n",
    "        'WY': 'Wyoming'\n",
    "},)\n",
    "\n",
    "suicide_by_state_df.set_index(suicide_by_state_df['STATE'], inplace=True)\n",
    "suicide_by_state_df.dropna(inplace=True)\n",
    "suicide_by_state_df['YEAR'] = suicide_by_state_df['YEAR'].astype(int)\n",
    "suicide_by_state_df['YEAR'] = suicide_by_state_df.loc[suicide_by_state_df['YEAR'] == 2014]"
   ]
  },
  {
   "cell_type": "code",
   "execution_count": 91,
   "metadata": {},
   "outputs": [],
   "source": [
    "# Create CSV file for new DataFrame\n",
    "suicide_by_state_df.to_csv('state_suicide_rate.csv', index=True)"
   ]
  },
  {
   "cell_type": "code",
   "execution_count": 99,
   "metadata": {},
   "outputs": [],
   "source": [
    "# Create DataFrame with U.S. Obesity Statistics per State\n",
    "state_obesity_df = pd.read_csv('adult_obese.csv')\n",
    "state_obesity_df.drop(columns=['95% CI','Sample Size'], inplace=True)\n",
    "state_obesity_df.dropna(inplace=True)\n",
    "state_obesity_df.rename(columns={'Location':'STATE', 'Value':'PERCENTAGE'}, inplace=True)\n",
    "state_obesity_df.set_index(state_obesity_df['STATE'], inplace=True)"
   ]
  },
  {
   "cell_type": "code",
   "execution_count": 100,
   "metadata": {},
   "outputs": [],
   "source": [
    "# Create CSV file for new DataFrame\n",
    "state_obesity_df.to_csv('state_obesity_rate.csv', index=True)"
   ]
  },
  {
   "cell_type": "code",
   "execution_count": null,
   "metadata": {},
   "outputs": [],
   "source": []
  }
 ],
 "metadata": {
  "kernelspec": {
   "display_name": "Python 3",
   "language": "python",
   "name": "python3"
  },
  "language_info": {
   "codemirror_mode": {
    "name": "ipython",
    "version": 3
   },
   "file_extension": ".py",
   "mimetype": "text/x-python",
   "name": "python",
   "nbconvert_exporter": "python",
   "pygments_lexer": "ipython3",
   "version": "3.7.3"
  }
 },
 "nbformat": 4,
 "nbformat_minor": 2
}
