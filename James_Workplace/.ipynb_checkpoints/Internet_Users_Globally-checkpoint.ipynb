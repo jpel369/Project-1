{
 "cells": [
  {
   "cell_type": "code",
   "execution_count": 174,
   "metadata": {},
   "outputs": [],
   "source": [
    "import pandas as pd\n",
    "import numpy as np"
   ]
  },
  {
   "cell_type": "code",
   "execution_count": 175,
   "metadata": {},
   "outputs": [
    {
     "data": {
      "text/html": [
       "<div>\n",
       "<style scoped>\n",
       "    .dataframe tbody tr th:only-of-type {\n",
       "        vertical-align: middle;\n",
       "    }\n",
       "\n",
       "    .dataframe tbody tr th {\n",
       "        vertical-align: top;\n",
       "    }\n",
       "\n",
       "    .dataframe thead th {\n",
       "        text-align: right;\n",
       "    }\n",
       "</style>\n",
       "<table border=\"1\" class=\"dataframe\">\n",
       "  <thead>\n",
       "    <tr style=\"text-align: right;\">\n",
       "      <th></th>\n",
       "      <th>Internet Users</th>\n",
       "      <th>Population</th>\n",
       "      <th>Rank</th>\n",
       "      <th>Percentage</th>\n",
       "      <th>Rank.1</th>\n",
       "    </tr>\n",
       "    <tr>\n",
       "      <th>Country or Area</th>\n",
       "      <th></th>\n",
       "      <th></th>\n",
       "      <th></th>\n",
       "      <th></th>\n",
       "      <th></th>\n",
       "    </tr>\n",
       "  </thead>\n",
       "  <tbody>\n",
       "    <tr>\n",
       "      <th>China</th>\n",
       "      <td>765,367,947</td>\n",
       "      <td>1,409,517,397</td>\n",
       "      <td>1</td>\n",
       "      <td>54.30%</td>\n",
       "      <td>116</td>\n",
       "    </tr>\n",
       "    <tr>\n",
       "      <th>India</th>\n",
       "      <td>461,347,554</td>\n",
       "      <td>1,339,180,127</td>\n",
       "      <td>2</td>\n",
       "      <td>34.45%</td>\n",
       "      <td>145</td>\n",
       "    </tr>\n",
       "    <tr>\n",
       "      <th>United States</th>\n",
       "      <td>244,090,854</td>\n",
       "      <td>324,459,463</td>\n",
       "      <td>3</td>\n",
       "      <td>75.23%</td>\n",
       "      <td>68</td>\n",
       "    </tr>\n",
       "    <tr>\n",
       "      <th>Brazil</th>\n",
       "      <td>141,206,801</td>\n",
       "      <td>209,288,278</td>\n",
       "      <td>4</td>\n",
       "      <td>67.47%</td>\n",
       "      <td>83</td>\n",
       "    </tr>\n",
       "    <tr>\n",
       "      <th>Japan</th>\n",
       "      <td>115,845,120</td>\n",
       "      <td>127,484,450</td>\n",
       "      <td>5</td>\n",
       "      <td>90.87%</td>\n",
       "      <td>23</td>\n",
       "    </tr>\n",
       "  </tbody>\n",
       "</table>\n",
       "</div>"
      ],
      "text/plain": [
       "                Internet Users     Population  Rank Percentage Rank.1\n",
       "Country or Area                                                      \n",
       "China              765,367,947  1,409,517,397     1     54.30%    116\n",
       "India              461,347,554  1,339,180,127     2     34.45%    145\n",
       "United States      244,090,854    324,459,463     3     75.23%     68\n",
       "Brazil             141,206,801    209,288,278     4     67.47%     83\n",
       "Japan              115,845,120    127,484,450     5     90.87%     23"
      ]
     },
     "execution_count": 175,
     "metadata": {},
     "output_type": "execute_result"
    }
   ],
   "source": [
    "# Show dataset and create index\n",
    "internet_users_df = pd.read_csv('List of Countries by number of Internet Users - Sheet1.csv', index_col='Country or Area')\n",
    "internet_users_df.head()"
   ]
  },
  {
   "cell_type": "code",
   "execution_count": 176,
   "metadata": {},
   "outputs": [
    {
     "data": {
      "text/plain": [
       "Index(['Internet Users', 'Population', 'Rank', 'Percentage', 'Rank.1'], dtype='object')"
      ]
     },
     "execution_count": 176,
     "metadata": {},
     "output_type": "execute_result"
    }
   ],
   "source": [
    "# Keep all the columns\n",
    "internet_users_df.columns"
   ]
  },
  {
   "cell_type": "code",
   "execution_count": 177,
   "metadata": {},
   "outputs": [
    {
     "data": {
      "text/plain": [
       "Country or Area\n",
       "China                              False\n",
       "India                              False\n",
       "United States                      False\n",
       "Brazil                             False\n",
       "Japan                              False\n",
       "Russia                             False\n",
       "Indonesia                          False\n",
       "Mexico                             False\n",
       "Germany                            False\n",
       "Philippines                        False\n",
       "United Kingdom                     False\n",
       "Pakistan                           False\n",
       "France                             False\n",
       "Turkey                             False\n",
       "Iran                               False\n",
       "South Korea                        False\n",
       "Vietnam                            False\n",
       "Egypt                              False\n",
       "Spain                              False\n",
       "Thailand                           False\n",
       "Italy                              False\n",
       "Canada                             False\n",
       "Argentina                          False\n",
       "South Africa                       False\n",
       "Nigeria                            False\n",
       "Colombia                           False\n",
       "Bangladesh                         False\n",
       "Poland                             False\n",
       "Saudi Arabia                       False\n",
       "Malaysia                           False\n",
       "                                   ...  \n",
       "Eritrea                            False\n",
       "Samoa                              False\n",
       "Grenada                            False\n",
       "São Tomé and Príncipe              False\n",
       "Bermuda                            False\n",
       "Seychelles                         False\n",
       "Dominica                           False\n",
       "Cayman Islands                     False\n",
       "Faroe Islands                      False\n",
       "Saint Kitts and Nevis              False\n",
       "Tonga                              False\n",
       "Greenland                          False\n",
       "Jersey                             False\n",
       "Monaco                             False\n",
       "Micronesia, Federated States of    False\n",
       "Liechtenstein                      False\n",
       "Gibraltar                          False\n",
       "Marshall Islands                   False\n",
       "San Marino                         False\n",
       "Kiribati                           False\n",
       "British Virgin Islands             False\n",
       "Anguilla                           False\n",
       "Nauru                              False\n",
       "Tuvalu                             False\n",
       "Saint Helena                       False\n",
       "Falkland Islands                   False\n",
       "Montserrat                         False\n",
       "Wallis and Futuna                  False\n",
       "Niue                               False\n",
       "Ascension                          False\n",
       "Length: 215, dtype: bool"
      ]
     },
     "execution_count": 177,
     "metadata": {},
     "output_type": "execute_result"
    }
   ],
   "source": [
    "# Check for duplicates\n",
    "internet_users_df.duplicated()"
   ]
  },
  {
   "cell_type": "code",
   "execution_count": 178,
   "metadata": {},
   "outputs": [
    {
     "name": "stdout",
     "output_type": "stream",
     "text": [
      "Missing values per column\n",
      "Internet Users    0\n",
      "Population        0\n",
      "Rank              0\n",
      "Percentage        0\n",
      "Rank.1            0\n",
      "dtype: int64\n"
     ]
    }
   ],
   "source": [
    "# Check for null values\n",
    "def num_missing(x):\n",
    "    return sum(x.isnull())\n",
    "# Apply per column\n",
    "print ('Missing values per column')\n",
    "print (internet_users_df.apply(num_missing, axis=0))"
   ]
  },
  {
   "cell_type": "code",
   "execution_count": 179,
   "metadata": {},
   "outputs": [
    {
     "data": {
      "text/plain": [
       "Internet Users    object\n",
       "Population        object\n",
       "Rank               int64\n",
       "Percentage        object\n",
       "Rank.1            object\n",
       "dtype: object"
      ]
     },
     "execution_count": 179,
     "metadata": {},
     "output_type": "execute_result"
    }
   ],
   "source": [
    "internet_users_df.dtypes"
   ]
  },
  {
   "cell_type": "code",
   "execution_count": 180,
   "metadata": {},
   "outputs": [
    {
     "data": {
      "text/plain": [
       "Country or Area\n",
       "Guinea-Bissau    207\n",
       "Name: Rank.1, dtype: object"
      ]
     },
     "execution_count": 180,
     "metadata": {},
     "output_type": "execute_result"
    }
   ],
   "source": [
    "internet_users_df['Rank.1'].filter(regex='-').head()"
   ]
  },
  {
   "cell_type": "code",
   "execution_count": 181,
   "metadata": {},
   "outputs": [],
   "source": [
    "# Normalize and change dtypes of 'Internet Users', 'Population' to integers\n",
    "internet_users_df['Internet Users'] = internet_users_df['Internet Users'].str.replace(',','')\n",
    "internet_users_df['Population'] = internet_users_df['Population'].str.replace(',','')"
   ]
  },
  {
   "cell_type": "code",
   "execution_count": 182,
   "metadata": {},
   "outputs": [],
   "source": [
    "internet_users_df['Internet Users'] = internet_users_df['Internet Users'].astype(int)\n",
    "internet_users_df['Population'] = internet_users_df['Population'].astype(int)"
   ]
  },
  {
   "cell_type": "code",
   "execution_count": 184,
   "metadata": {},
   "outputs": [],
   "source": [
    "suicide_df = pd.read_csv('Suicide_Percentage_Breakdown.csv', index_col='country')\n",
    "suicide_df = suicide_df.drop(columns=['suicides_no','population'])"
   ]
  },
  {
   "cell_type": "code",
   "execution_count": 185,
   "metadata": {},
   "outputs": [],
   "source": [
    "# Try and join the two dataframes\n",
    "internet_vs_suicide = internet_users_df.join(suicide_df)"
   ]
  },
  {
   "cell_type": "code",
   "execution_count": 186,
   "metadata": {},
   "outputs": [],
   "source": [
    "# Sort dataframe according to 'Percentage of Suicide'\n",
    "internet_vs_suicide_1 = internet_vs_suicide.sort_values(by=['Percentage of Suicide'], ascending=False)"
   ]
  },
  {
   "cell_type": "code",
   "execution_count": 187,
   "metadata": {},
   "outputs": [],
   "source": [
    "internet_vs_suicie_1 = internet_vs_suicide_1.head(50)"
   ]
  },
  {
   "cell_type": "code",
   "execution_count": 188,
   "metadata": {},
   "outputs": [],
   "source": [
    "internet_vs_suicide_1 =internet_vs_suicide_1.rename(columns={'Rank.1':'Internet Users Global Rank'})"
   ]
  },
  {
   "cell_type": "code",
   "execution_count": 189,
   "metadata": {},
   "outputs": [],
   "source": [
    "# Sort dataframe accoring to 'Rank.1' showing countries with highest number of internet users\n",
    "internet_vs_suicide_2 = internet_vs_suicide.sort_values(by=['Rank.1'], ascending=False).head(50)"
   ]
  },
  {
   "cell_type": "code",
   "execution_count": 191,
   "metadata": {},
   "outputs": [],
   "source": [
    "# Plot a scatter plot showing relationship between Internet Users and Suicide\n",
    "import matplotlib.pyplot as plt"
   ]
  },
  {
   "cell_type": "code",
   "execution_count": 192,
   "metadata": {},
   "outputs": [
    {
     "ename": "TypeError",
     "evalue": "unsupported operand type(s) for -: 'str' and 'str'",
     "output_type": "error",
     "traceback": [
      "\u001b[0;31m---------------------------------------------------------------------------\u001b[0m",
      "\u001b[0;31mTypeError\u001b[0m                                 Traceback (most recent call last)",
      "\u001b[0;32m<ipython-input-192-0f71049c25cd>\u001b[0m in \u001b[0;36m<module>\u001b[0;34m\u001b[0m\n\u001b[1;32m      5\u001b[0m \u001b[0mplt\u001b[0m\u001b[0;34m.\u001b[0m\u001b[0mylabel\u001b[0m\u001b[0;34m(\u001b[0m\u001b[0;34m'Suicide Rate Per Country'\u001b[0m\u001b[0;34m)\u001b[0m\u001b[0;34m\u001b[0m\u001b[0;34m\u001b[0m\u001b[0m\n\u001b[1;32m      6\u001b[0m \u001b[0mplt\u001b[0m\u001b[0;34m.\u001b[0m\u001b[0mtitle\u001b[0m\u001b[0;34m(\u001b[0m\u001b[0;34m'Global Relationship between Internet Usage and Suicide'\u001b[0m\u001b[0;34m)\u001b[0m\u001b[0;34m\u001b[0m\u001b[0;34m\u001b[0m\u001b[0m\n\u001b[0;32m----> 7\u001b[0;31m \u001b[0mplt\u001b[0m\u001b[0;34m.\u001b[0m\u001b[0mxticks\u001b[0m\u001b[0;34m(\u001b[0m\u001b[0mnp\u001b[0m\u001b[0;34m.\u001b[0m\u001b[0marange\u001b[0m\u001b[0;34m(\u001b[0m\u001b[0mmin\u001b[0m\u001b[0;34m(\u001b[0m\u001b[0mx\u001b[0m\u001b[0;34m)\u001b[0m\u001b[0;34m,\u001b[0m \u001b[0mmax\u001b[0m\u001b[0;34m(\u001b[0m\u001b[0mx\u001b[0m\u001b[0;34m)\u001b[0m\u001b[0;34m,\u001b[0m \u001b[0mstep\u001b[0m\u001b[0;34m=\u001b[0m\u001b[0;36m0.2\u001b[0m\u001b[0;34m)\u001b[0m\u001b[0;34m)\u001b[0m\u001b[0;34m\u001b[0m\u001b[0;34m\u001b[0m\u001b[0m\n\u001b[0m\u001b[1;32m      8\u001b[0m \u001b[0mplt\u001b[0m\u001b[0;34m.\u001b[0m\u001b[0mshow\u001b[0m\u001b[0;34m(\u001b[0m\u001b[0;34m)\u001b[0m\u001b[0;34m\u001b[0m\u001b[0;34m\u001b[0m\u001b[0m\n",
      "\u001b[0;31mTypeError\u001b[0m: unsupported operand type(s) for -: 'str' and 'str'"
     ]
    },
    {
     "data": {
      "image/png": "[encoded data removed]",
      "text/plain": [
       "<Figure size 432x288 with 1 Axes>"
      ]
     },
     "metadata": {
      "needs_background": "light"
     },
     "output_type": "display_data"
    }
   ],
   "source": [
    "x = internet_vs_suicide_1['Internet Users Global Rank']\n",
    "y = internet_vs_suicide_1['Percentage of Suicide']\n",
    "plt.scatter(x, y, c='skyblue', alpha=0.5, edgecolor='black')\n",
    "plt.xlabel('Internet Users Rank')\n",
    "plt.ylabel('Suicide Rate Per Country')\n",
    "plt.title('Global Relationship between Internet Usage and Suicide')\n",
    "plt.xticks(np.arange(min(x), max(x), step=0.2))\n",
    "plt.show()"
   ]
  },
  {
   "cell_type": "code",
   "execution_count": null,
   "metadata": {},
   "outputs": [],
   "source": []
  }
 ],
 "metadata": {
  "kernelspec": {
   "display_name": "Python 3",
   "language": "python",
   "name": "python3"
  },
  "language_info": {
   "codemirror_mode": {
    "name": "ipython",
    "version": 3
   },
   "file_extension": ".py",
   "mimetype": "text/x-python",
   "name": "python",
   "nbconvert_exporter": "python",
   "pygments_lexer": "ipython3",
   "version": "3.7.3"
  }
 },
 "nbformat": 4,
 "nbformat_minor": 2
}
