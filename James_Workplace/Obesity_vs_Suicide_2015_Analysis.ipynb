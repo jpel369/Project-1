{
 "cells": [
  {
   "cell_type": "code",
   "execution_count": 26,
   "metadata": {},
   "outputs": [
    {
     "name": "stdout",
     "output_type": "stream",
     "text": [
      "Missing values per column:\n",
      "2016    0\n",
      "2015    0\n",
      "2014    0\n",
      "2013    0\n",
      "2012    0\n",
      "2011    0\n",
      "2010    0\n",
      "2009    0\n",
      "2008    0\n",
      "2007    0\n",
      "2006    0\n",
      "2005    0\n",
      "2004    0\n",
      "2003    0\n",
      "2002    0\n",
      "2001    0\n",
      "2000    0\n",
      "1999    0\n",
      "1998    0\n",
      "1997    0\n",
      "1996    0\n",
      "1995    0\n",
      "1994    0\n",
      "1993    0\n",
      "1992    0\n",
      "1991    0\n",
      "1990    0\n",
      "1989    0\n",
      "1988    0\n",
      "1987    0\n",
      "1986    0\n",
      "1985    0\n",
      "1984    0\n",
      "1983    0\n",
      "1982    0\n",
      "1981    0\n",
      "1980    0\n",
      "1979    0\n",
      "1978    0\n",
      "1977    0\n",
      "1976    0\n",
      "1975    0\n",
      "dtype: int64\n"
     ]
    },
    {
     "data": {
      "text/plain": [
       "<matplotlib.collections.PathCollection at 0x12f88a9b0>"
      ]
     },
     "execution_count": 26,
     "metadata": {},
     "output_type": "execute_result"
    },
    {
     "data": {
      "image/png": "[encoded data removed]",
      "text/plain": [
       "<Figure size 432x288 with 1 Axes>"
      ]
     },
     "metadata": {
      "needs_background": "light"
     },
     "output_type": "display_data"
    }
   ],
   "source": [
    "import pandas as pd\n",
    "import numpy as np\n",
    "\n",
    "obesity_df = pd.read_csv('Resources/WHO_Obesity_Data_Global.csv')\n",
    "obesity_df\n",
    "\n",
    "# Clean up on aisle 3\n",
    "obesity_df.rename(columns={'Unnamed: 0':'Country'}, inplace=True)\n",
    "obesity_df.set_index(obesity_df['Country'], inplace=True)\n",
    "obesity_df = obesity_df.iloc[3:]\n",
    "obesity_df.drop(columns=['Country'], inplace=True)\n",
    "obesity_df.head()\n",
    "\n",
    "# More clean up but with loop this time...so talented\n",
    "column_list = obesity_df.columns\n",
    "for column in column_list:\n",
    "    if '.' in column:\n",
    "        obesity_df.drop(columns=[column], inplace=True)\n",
    "obesity_df\n",
    "\n",
    "# Now for a bit of Regex\n",
    "obesity_df = obesity_df.replace(to_replace='\\[.*$', value='', regex=True)\n",
    "obesity_df\n",
    "\n",
    "# Check for null values in the dataset\n",
    "def num_missing(x):\n",
    "    return sum(x.isnull())\n",
    "# Apply Per Column\n",
    "print (\"Missing values per column:\")\n",
    "print (obesity_df.apply(num_missing, axis=0))\n",
    "\n",
    "# Check the dtypes\n",
    "obesity_df.dtypes\n",
    "\n",
    "# Convert dtypes into floats\n",
    "for column in obesity_df:\n",
    "    obesity_df[column] = pd.to_numeric(obesity_df[column], errors='coerce')\n",
    "    obesity_df[column] = obesity_df[column].round(3)\n",
    "    obesity_df[column].dropna(axis=0, inplace=True)\n",
    "    obesity_df[column] = obesity_df[column].astype(float)\n",
    "\n",
    "obesity_df['2015'].describe()\n",
    "\n",
    "# Analysis of Obesity and Suicide\n",
    "# Ensure all countries are included in analysis\n",
    "oo = obesity_df['2015']\n",
    "obesity_top_50 = oo.to_frame()\n",
    "obesity_top_50.rename(index={'United States of America':'United States', 'Czechia':'Czech Republic'}, inplace=True)\n",
    "\n",
    "suicide_df = pd.read_csv('Suicide_Percentage_Breakdown.csv')\n",
    "\n",
    "suicide_df.rename(columns={'country':'Country'}, inplace=True)\n",
    "suicide_df.set_index('Country')\n",
    "suicide_df.head(50)\n",
    "\n",
    "# Combine dataframes on Country axis\n",
    "suicide_obesity_df = suicide_df.join(obesity_top_50, on='Country')\n",
    "suicide_obesity_df.dropna(inplace=True)\n",
    "suicide_obesity_df.head(50)\n",
    "\n",
    "suicide_obesity_df['2015'].describe()\n",
    "\n",
    "suicide_2015 = pd.read_csv('Suicide_Percentage_Breakdown_2015.csv')\n",
    "\n",
    "suicide_2015.rename(columns={'country':'Country'}, inplace=True)\n",
    "suicide_2015.sort_values(by=['Percentage of Suicide'],ascending=False, inplace=True)\n",
    "suicide_2015.set_index('Country')\n",
    "\n",
    "suicide_obesity_2015 = suicide_2015.join(obesity_top_50, on='Country')\n",
    "suicide_obesity_2015.set_index('Country', inplace=True)\n",
    "\n",
    "# Plot scatter graph showing relationship: null hypothesis - there is no relationship\n",
    "import matplotlib.pyplot as plt\n",
    "plt.scatter(y=suicide_obesity_2015['2015'], x=suicide_obesity_2015['Percentage of Suicide'], color='skyblue', alpha=0.5, edgecolor='black')"
   ]
  },
  {
   "cell_type": "code",
   "execution_count": 27,
   "metadata": {
    "scrolled": true
   },
   "outputs": [
    {
     "data": {
      "text/html": [
       "<div>\n",
       "<style scoped>\n",
       "    .dataframe tbody tr th:only-of-type {\n",
       "        vertical-align: middle;\n",
       "    }\n",
       "\n",
       "    .dataframe tbody tr th {\n",
       "        vertical-align: top;\n",
       "    }\n",
       "\n",
       "    .dataframe thead th {\n",
       "        text-align: right;\n",
       "    }\n",
       "</style>\n",
       "<table border=\"1\" class=\"dataframe\">\n",
       "  <thead>\n",
       "    <tr style=\"text-align: right;\">\n",
       "      <th></th>\n",
       "      <th>Percentage of Suicide</th>\n",
       "      <th>2015</th>\n",
       "    </tr>\n",
       "    <tr>\n",
       "      <th>Country</th>\n",
       "      <th></th>\n",
       "      <th></th>\n",
       "    </tr>\n",
       "  </thead>\n",
       "  <tbody>\n",
       "    <tr>\n",
       "      <th>Lithuania</th>\n",
       "      <td>0.032535</td>\n",
       "      <td>26.0</td>\n",
       "    </tr>\n",
       "    <tr>\n",
       "      <th>Republic of Korea</th>\n",
       "      <td>0.027757</td>\n",
       "      <td>4.5</td>\n",
       "    </tr>\n",
       "    <tr>\n",
       "      <th>Slovenia</th>\n",
       "      <td>0.021590</td>\n",
       "      <td>19.8</td>\n",
       "    </tr>\n",
       "    <tr>\n",
       "      <th>Latvia</th>\n",
       "      <td>0.020634</td>\n",
       "      <td>23.3</td>\n",
       "    </tr>\n",
       "    <tr>\n",
       "      <th>Hungary</th>\n",
       "      <td>0.019895</td>\n",
       "      <td>25.9</td>\n",
       "    </tr>\n",
       "    <tr>\n",
       "      <th>Uruguay</th>\n",
       "      <td>0.019744</td>\n",
       "      <td>27.5</td>\n",
       "    </tr>\n",
       "    <tr>\n",
       "      <th>Japan</th>\n",
       "      <td>0.019183</td>\n",
       "      <td>4.1</td>\n",
       "    </tr>\n",
       "    <tr>\n",
       "      <th>Ukraine</th>\n",
       "      <td>0.018773</td>\n",
       "      <td>23.7</td>\n",
       "    </tr>\n",
       "    <tr>\n",
       "      <th>Russian Federation</th>\n",
       "      <td>0.018561</td>\n",
       "      <td>22.8</td>\n",
       "    </tr>\n",
       "    <tr>\n",
       "      <th>Croatia</th>\n",
       "      <td>0.018467</td>\n",
       "      <td>23.9</td>\n",
       "    </tr>\n",
       "    <tr>\n",
       "      <th>Kazakhstan</th>\n",
       "      <td>0.018355</td>\n",
       "      <td>20.5</td>\n",
       "    </tr>\n",
       "    <tr>\n",
       "      <th>Belgium</th>\n",
       "      <td>0.017573</td>\n",
       "      <td>21.7</td>\n",
       "    </tr>\n",
       "    <tr>\n",
       "      <th>Serbia</th>\n",
       "      <td>0.015695</td>\n",
       "      <td>21.1</td>\n",
       "    </tr>\n",
       "    <tr>\n",
       "      <th>Estonia</th>\n",
       "      <td>0.015682</td>\n",
       "      <td>20.9</td>\n",
       "    </tr>\n",
       "    <tr>\n",
       "      <th>Austria</th>\n",
       "      <td>0.015220</td>\n",
       "      <td>19.7</td>\n",
       "    </tr>\n",
       "    <tr>\n",
       "      <th>Poland</th>\n",
       "      <td>0.015019</td>\n",
       "      <td>22.7</td>\n",
       "    </tr>\n",
       "    <tr>\n",
       "      <th>United States</th>\n",
       "      <td>0.014726</td>\n",
       "      <td>35.6</td>\n",
       "    </tr>\n",
       "    <tr>\n",
       "      <th>Finland</th>\n",
       "      <td>0.014107</td>\n",
       "      <td>21.8</td>\n",
       "    </tr>\n",
       "    <tr>\n",
       "      <th>Cuba</th>\n",
       "      <td>0.013949</td>\n",
       "      <td>24.1</td>\n",
       "    </tr>\n",
       "    <tr>\n",
       "      <th>Czech Republic</th>\n",
       "      <td>0.013885</td>\n",
       "      <td>25.6</td>\n",
       "    </tr>\n",
       "    <tr>\n",
       "      <th>Australia</th>\n",
       "      <td>0.013610</td>\n",
       "      <td>28.4</td>\n",
       "    </tr>\n",
       "    <tr>\n",
       "      <th>Switzerland</th>\n",
       "      <td>0.013595</td>\n",
       "      <td>19.1</td>\n",
       "    </tr>\n",
       "    <tr>\n",
       "      <th>Sweden</th>\n",
       "      <td>0.012968</td>\n",
       "      <td>20.2</td>\n",
       "    </tr>\n",
       "    <tr>\n",
       "      <th>Iceland</th>\n",
       "      <td>0.012964</td>\n",
       "      <td>21.5</td>\n",
       "    </tr>\n",
       "    <tr>\n",
       "      <th>Germany</th>\n",
       "      <td>0.012911</td>\n",
       "      <td>21.9</td>\n",
       "    </tr>\n",
       "    <tr>\n",
       "      <th>Norway</th>\n",
       "      <td>0.012083</td>\n",
       "      <td>22.6</td>\n",
       "    </tr>\n",
       "    <tr>\n",
       "      <th>Luxembourg</th>\n",
       "      <td>0.011901</td>\n",
       "      <td>22.2</td>\n",
       "    </tr>\n",
       "    <tr>\n",
       "      <th>Romania</th>\n",
       "      <td>0.011811</td>\n",
       "      <td>22.1</td>\n",
       "    </tr>\n",
       "    <tr>\n",
       "      <th>Netherlands</th>\n",
       "      <td>0.011664</td>\n",
       "      <td>20.0</td>\n",
       "    </tr>\n",
       "    <tr>\n",
       "      <th>Chile</th>\n",
       "      <td>0.011095</td>\n",
       "      <td>27.5</td>\n",
       "    </tr>\n",
       "    <tr>\n",
       "      <th>...</th>\n",
       "      <td>...</td>\n",
       "      <td>...</td>\n",
       "    </tr>\n",
       "    <tr>\n",
       "      <th>Singapore</th>\n",
       "      <td>0.008846</td>\n",
       "      <td>6.0</td>\n",
       "    </tr>\n",
       "    <tr>\n",
       "      <th>Malta</th>\n",
       "      <td>0.008280</td>\n",
       "      <td>28.5</td>\n",
       "    </tr>\n",
       "    <tr>\n",
       "      <th>Spain</th>\n",
       "      <td>0.008156</td>\n",
       "      <td>23.4</td>\n",
       "    </tr>\n",
       "    <tr>\n",
       "      <th>Seychelles</th>\n",
       "      <td>0.008144</td>\n",
       "      <td>13.5</td>\n",
       "    </tr>\n",
       "    <tr>\n",
       "      <th>Belize</th>\n",
       "      <td>0.008129</td>\n",
       "      <td>23.6</td>\n",
       "    </tr>\n",
       "    <tr>\n",
       "      <th>United Kingdom</th>\n",
       "      <td>0.008038</td>\n",
       "      <td>NaN</td>\n",
       "    </tr>\n",
       "    <tr>\n",
       "      <th>Kyrgyzstan</th>\n",
       "      <td>0.008026</td>\n",
       "      <td>16.0</td>\n",
       "    </tr>\n",
       "    <tr>\n",
       "      <th>Argentina</th>\n",
       "      <td>0.007741</td>\n",
       "      <td>27.8</td>\n",
       "    </tr>\n",
       "    <tr>\n",
       "      <th>Ecuador</th>\n",
       "      <td>0.007383</td>\n",
       "      <td>19.4</td>\n",
       "    </tr>\n",
       "    <tr>\n",
       "      <th>Thailand</th>\n",
       "      <td>0.006864</td>\n",
       "      <td>9.4</td>\n",
       "    </tr>\n",
       "    <tr>\n",
       "      <th>Italy</th>\n",
       "      <td>0.006862</td>\n",
       "      <td>19.6</td>\n",
       "    </tr>\n",
       "    <tr>\n",
       "      <th>Puerto Rico</th>\n",
       "      <td>0.006514</td>\n",
       "      <td>NaN</td>\n",
       "    </tr>\n",
       "    <tr>\n",
       "      <th>Brazil</th>\n",
       "      <td>0.005842</td>\n",
       "      <td>21.6</td>\n",
       "    </tr>\n",
       "    <tr>\n",
       "      <th>Nicaragua</th>\n",
       "      <td>0.005752</td>\n",
       "      <td>23.1</td>\n",
       "    </tr>\n",
       "    <tr>\n",
       "      <th>Georgia</th>\n",
       "      <td>0.005552</td>\n",
       "      <td>21.1</td>\n",
       "    </tr>\n",
       "    <tr>\n",
       "      <th>Mexico</th>\n",
       "      <td>0.005451</td>\n",
       "      <td>28.3</td>\n",
       "    </tr>\n",
       "    <tr>\n",
       "      <th>Colombia</th>\n",
       "      <td>0.005242</td>\n",
       "      <td>21.9</td>\n",
       "    </tr>\n",
       "    <tr>\n",
       "      <th>Greece</th>\n",
       "      <td>0.005120</td>\n",
       "      <td>24.4</td>\n",
       "    </tr>\n",
       "    <tr>\n",
       "      <th>Cyprus</th>\n",
       "      <td>0.005025</td>\n",
       "      <td>21.4</td>\n",
       "    </tr>\n",
       "    <tr>\n",
       "      <th>Israel</th>\n",
       "      <td>0.004550</td>\n",
       "      <td>25.8</td>\n",
       "    </tr>\n",
       "    <tr>\n",
       "      <th>Guatemala</th>\n",
       "      <td>0.003465</td>\n",
       "      <td>20.6</td>\n",
       "    </tr>\n",
       "    <tr>\n",
       "      <th>Panama</th>\n",
       "      <td>0.003070</td>\n",
       "      <td>22.2</td>\n",
       "    </tr>\n",
       "    <tr>\n",
       "      <th>Saint Vincent and Grenadines</th>\n",
       "      <td>0.002972</td>\n",
       "      <td>NaN</td>\n",
       "    </tr>\n",
       "    <tr>\n",
       "      <th>Qatar</th>\n",
       "      <td>0.002804</td>\n",
       "      <td>34.5</td>\n",
       "    </tr>\n",
       "    <tr>\n",
       "      <th>Turkmenistan</th>\n",
       "      <td>0.002722</td>\n",
       "      <td>18.0</td>\n",
       "    </tr>\n",
       "    <tr>\n",
       "      <th>Armenia</th>\n",
       "      <td>0.002647</td>\n",
       "      <td>19.7</td>\n",
       "    </tr>\n",
       "    <tr>\n",
       "      <th>Turkey</th>\n",
       "      <td>0.002131</td>\n",
       "      <td>31.5</td>\n",
       "    </tr>\n",
       "    <tr>\n",
       "      <th>Antigua and Barbuda</th>\n",
       "      <td>0.001088</td>\n",
       "      <td>18.4</td>\n",
       "    </tr>\n",
       "    <tr>\n",
       "      <th>South Africa</th>\n",
       "      <td>0.000971</td>\n",
       "      <td>27.8</td>\n",
       "    </tr>\n",
       "    <tr>\n",
       "      <th>Grenada</th>\n",
       "      <td>0.000000</td>\n",
       "      <td>20.7</td>\n",
       "    </tr>\n",
       "  </tbody>\n",
       "</table>\n",
       "<p>62 rows × 2 columns</p>\n",
       "</div>"
      ],
      "text/plain": [
       "                              Percentage of Suicide  2015\n",
       "Country                                                  \n",
       "Lithuania                                  0.032535  26.0\n",
       "Republic of Korea                          0.027757   4.5\n",
       "Slovenia                                   0.021590  19.8\n",
       "Latvia                                     0.020634  23.3\n",
       "Hungary                                    0.019895  25.9\n",
       "Uruguay                                    0.019744  27.5\n",
       "Japan                                      0.019183   4.1\n",
       "Ukraine                                    0.018773  23.7\n",
       "Russian Federation                         0.018561  22.8\n",
       "Croatia                                    0.018467  23.9\n",
       "Kazakhstan                                 0.018355  20.5\n",
       "Belgium                                    0.017573  21.7\n",
       "Serbia                                     0.015695  21.1\n",
       "Estonia                                    0.015682  20.9\n",
       "Austria                                    0.015220  19.7\n",
       "Poland                                     0.015019  22.7\n",
       "United States                              0.014726  35.6\n",
       "Finland                                    0.014107  21.8\n",
       "Cuba                                       0.013949  24.1\n",
       "Czech Republic                             0.013885  25.6\n",
       "Australia                                  0.013610  28.4\n",
       "Switzerland                                0.013595  19.1\n",
       "Sweden                                     0.012968  20.2\n",
       "Iceland                                    0.012964  21.5\n",
       "Germany                                    0.012911  21.9\n",
       "Norway                                     0.012083  22.6\n",
       "Luxembourg                                 0.011901  22.2\n",
       "Romania                                    0.011811  22.1\n",
       "Netherlands                                0.011664  20.0\n",
       "Chile                                      0.011095  27.5\n",
       "...                                             ...   ...\n",
       "Singapore                                  0.008846   6.0\n",
       "Malta                                      0.008280  28.5\n",
       "Spain                                      0.008156  23.4\n",
       "Seychelles                                 0.008144  13.5\n",
       "Belize                                     0.008129  23.6\n",
       "United Kingdom                             0.008038   NaN\n",
       "Kyrgyzstan                                 0.008026  16.0\n",
       "Argentina                                  0.007741  27.8\n",
       "Ecuador                                    0.007383  19.4\n",
       "Thailand                                   0.006864   9.4\n",
       "Italy                                      0.006862  19.6\n",
       "Puerto Rico                                0.006514   NaN\n",
       "Brazil                                     0.005842  21.6\n",
       "Nicaragua                                  0.005752  23.1\n",
       "Georgia                                    0.005552  21.1\n",
       "Mexico                                     0.005451  28.3\n",
       "Colombia                                   0.005242  21.9\n",
       "Greece                                     0.005120  24.4\n",
       "Cyprus                                     0.005025  21.4\n",
       "Israel                                     0.004550  25.8\n",
       "Guatemala                                  0.003465  20.6\n",
       "Panama                                     0.003070  22.2\n",
       "Saint Vincent and Grenadines               0.002972   NaN\n",
       "Qatar                                      0.002804  34.5\n",
       "Turkmenistan                               0.002722  18.0\n",
       "Armenia                                    0.002647  19.7\n",
       "Turkey                                     0.002131  31.5\n",
       "Antigua and Barbuda                        0.001088  18.4\n",
       "South Africa                               0.000971  27.8\n",
       "Grenada                                    0.000000  20.7\n",
       "\n",
       "[62 rows x 2 columns]"
      ]
     },
     "execution_count": 27,
     "metadata": {},
     "output_type": "execute_result"
    }
   ],
   "source": [
    "suicide_obesity_2015"
   ]
  },
  {
   "cell_type": "code",
   "execution_count": 22,
   "metadata": {},
   "outputs": [],
   "source": [
    "gdp_df = pd.read_csv('https://raw.githubusercontent.com/plotly/datasets/master/2014_world_gdp_with_codes.csv')\n",
    "gdp_df.rename(columns={'COUNTRY':'country'}, inplace=True)\n",
    "gdp_df.set_index('country', inplace=True)\n",
    "suicide_obesity_2015 = suicide_obesity_2015.join(gdp_df)\n",
    "suicide_obesity_2015.dropna(inplace=True)"
   ]
  },
  {
   "cell_type": "code",
   "execution_count": 24,
   "metadata": {},
   "outputs": [
    {
     "data": {
      "text/html": [
       "<div>\n",
       "<style scoped>\n",
       "    .dataframe tbody tr th:only-of-type {\n",
       "        vertical-align: middle;\n",
       "    }\n",
       "\n",
       "    .dataframe tbody tr th {\n",
       "        vertical-align: top;\n",
       "    }\n",
       "\n",
       "    .dataframe thead th {\n",
       "        text-align: right;\n",
       "    }\n",
       "</style>\n",
       "<table border=\"1\" class=\"dataframe\">\n",
       "  <thead>\n",
       "    <tr style=\"text-align: right;\">\n",
       "      <th></th>\n",
       "      <th>Percentage of Suicide</th>\n",
       "      <th>2015</th>\n",
       "      <th>GDP (BILLIONS)</th>\n",
       "      <th>CODE</th>\n",
       "    </tr>\n",
       "    <tr>\n",
       "      <th>Country</th>\n",
       "      <th></th>\n",
       "      <th></th>\n",
       "      <th></th>\n",
       "      <th></th>\n",
       "    </tr>\n",
       "  </thead>\n",
       "  <tbody>\n",
       "    <tr>\n",
       "      <th>Lithuania</th>\n",
       "      <td>0.032535</td>\n",
       "      <td>26.0</td>\n",
       "      <td>48.72</td>\n",
       "      <td>LTU</td>\n",
       "    </tr>\n",
       "    <tr>\n",
       "      <th>Slovenia</th>\n",
       "      <td>0.021590</td>\n",
       "      <td>19.8</td>\n",
       "      <td>49.93</td>\n",
       "      <td>SVN</td>\n",
       "    </tr>\n",
       "    <tr>\n",
       "      <th>Latvia</th>\n",
       "      <td>0.020634</td>\n",
       "      <td>23.3</td>\n",
       "      <td>32.82</td>\n",
       "      <td>LVA</td>\n",
       "    </tr>\n",
       "    <tr>\n",
       "      <th>Hungary</th>\n",
       "      <td>0.019895</td>\n",
       "      <td>25.9</td>\n",
       "      <td>129.70</td>\n",
       "      <td>HUN</td>\n",
       "    </tr>\n",
       "    <tr>\n",
       "      <th>Uruguay</th>\n",
       "      <td>0.019744</td>\n",
       "      <td>27.5</td>\n",
       "      <td>55.60</td>\n",
       "      <td>URY</td>\n",
       "    </tr>\n",
       "    <tr>\n",
       "      <th>Japan</th>\n",
       "      <td>0.019183</td>\n",
       "      <td>4.1</td>\n",
       "      <td>4770.00</td>\n",
       "      <td>JPN</td>\n",
       "    </tr>\n",
       "    <tr>\n",
       "      <th>Ukraine</th>\n",
       "      <td>0.018773</td>\n",
       "      <td>23.7</td>\n",
       "      <td>134.90</td>\n",
       "      <td>UKR</td>\n",
       "    </tr>\n",
       "    <tr>\n",
       "      <th>Croatia</th>\n",
       "      <td>0.018467</td>\n",
       "      <td>23.9</td>\n",
       "      <td>57.18</td>\n",
       "      <td>HRV</td>\n",
       "    </tr>\n",
       "    <tr>\n",
       "      <th>Kazakhstan</th>\n",
       "      <td>0.018355</td>\n",
       "      <td>20.5</td>\n",
       "      <td>225.60</td>\n",
       "      <td>KAZ</td>\n",
       "    </tr>\n",
       "    <tr>\n",
       "      <th>Belgium</th>\n",
       "      <td>0.017573</td>\n",
       "      <td>21.7</td>\n",
       "      <td>527.80</td>\n",
       "      <td>BEL</td>\n",
       "    </tr>\n",
       "    <tr>\n",
       "      <th>Serbia</th>\n",
       "      <td>0.015695</td>\n",
       "      <td>21.1</td>\n",
       "      <td>42.65</td>\n",
       "      <td>SRB</td>\n",
       "    </tr>\n",
       "    <tr>\n",
       "      <th>Estonia</th>\n",
       "      <td>0.015682</td>\n",
       "      <td>20.9</td>\n",
       "      <td>26.36</td>\n",
       "      <td>EST</td>\n",
       "    </tr>\n",
       "    <tr>\n",
       "      <th>Austria</th>\n",
       "      <td>0.015220</td>\n",
       "      <td>19.7</td>\n",
       "      <td>436.10</td>\n",
       "      <td>AUT</td>\n",
       "    </tr>\n",
       "    <tr>\n",
       "      <th>Poland</th>\n",
       "      <td>0.015019</td>\n",
       "      <td>22.7</td>\n",
       "      <td>552.20</td>\n",
       "      <td>POL</td>\n",
       "    </tr>\n",
       "    <tr>\n",
       "      <th>United States</th>\n",
       "      <td>0.014726</td>\n",
       "      <td>35.6</td>\n",
       "      <td>17420.00</td>\n",
       "      <td>USA</td>\n",
       "    </tr>\n",
       "    <tr>\n",
       "      <th>Finland</th>\n",
       "      <td>0.014107</td>\n",
       "      <td>21.8</td>\n",
       "      <td>276.30</td>\n",
       "      <td>FIN</td>\n",
       "    </tr>\n",
       "    <tr>\n",
       "      <th>Cuba</th>\n",
       "      <td>0.013949</td>\n",
       "      <td>24.1</td>\n",
       "      <td>77.15</td>\n",
       "      <td>CUB</td>\n",
       "    </tr>\n",
       "    <tr>\n",
       "      <th>Czech Republic</th>\n",
       "      <td>0.013885</td>\n",
       "      <td>25.6</td>\n",
       "      <td>205.60</td>\n",
       "      <td>CZE</td>\n",
       "    </tr>\n",
       "    <tr>\n",
       "      <th>Australia</th>\n",
       "      <td>0.013610</td>\n",
       "      <td>28.4</td>\n",
       "      <td>1483.00</td>\n",
       "      <td>AUS</td>\n",
       "    </tr>\n",
       "    <tr>\n",
       "      <th>Switzerland</th>\n",
       "      <td>0.013595</td>\n",
       "      <td>19.1</td>\n",
       "      <td>679.00</td>\n",
       "      <td>CHE</td>\n",
       "    </tr>\n",
       "    <tr>\n",
       "      <th>Sweden</th>\n",
       "      <td>0.012968</td>\n",
       "      <td>20.2</td>\n",
       "      <td>559.10</td>\n",
       "      <td>SWE</td>\n",
       "    </tr>\n",
       "    <tr>\n",
       "      <th>Iceland</th>\n",
       "      <td>0.012964</td>\n",
       "      <td>21.5</td>\n",
       "      <td>16.20</td>\n",
       "      <td>ISL</td>\n",
       "    </tr>\n",
       "    <tr>\n",
       "      <th>Germany</th>\n",
       "      <td>0.012911</td>\n",
       "      <td>21.9</td>\n",
       "      <td>3820.00</td>\n",
       "      <td>DEU</td>\n",
       "    </tr>\n",
       "    <tr>\n",
       "      <th>Norway</th>\n",
       "      <td>0.012083</td>\n",
       "      <td>22.6</td>\n",
       "      <td>511.60</td>\n",
       "      <td>NOR</td>\n",
       "    </tr>\n",
       "    <tr>\n",
       "      <th>Luxembourg</th>\n",
       "      <td>0.011901</td>\n",
       "      <td>22.2</td>\n",
       "      <td>63.93</td>\n",
       "      <td>LUX</td>\n",
       "    </tr>\n",
       "    <tr>\n",
       "      <th>Romania</th>\n",
       "      <td>0.011811</td>\n",
       "      <td>22.1</td>\n",
       "      <td>199.00</td>\n",
       "      <td>ROU</td>\n",
       "    </tr>\n",
       "    <tr>\n",
       "      <th>Netherlands</th>\n",
       "      <td>0.011664</td>\n",
       "      <td>20.0</td>\n",
       "      <td>880.40</td>\n",
       "      <td>NLD</td>\n",
       "    </tr>\n",
       "    <tr>\n",
       "      <th>Chile</th>\n",
       "      <td>0.011095</td>\n",
       "      <td>27.5</td>\n",
       "      <td>264.10</td>\n",
       "      <td>CHL</td>\n",
       "    </tr>\n",
       "    <tr>\n",
       "      <th>Denmark</th>\n",
       "      <td>0.010477</td>\n",
       "      <td>19.3</td>\n",
       "      <td>347.20</td>\n",
       "      <td>DNK</td>\n",
       "    </tr>\n",
       "    <tr>\n",
       "      <th>Mauritius</th>\n",
       "      <td>0.009006</td>\n",
       "      <td>10.5</td>\n",
       "      <td>12.72</td>\n",
       "      <td>MUS</td>\n",
       "    </tr>\n",
       "    <tr>\n",
       "      <th>Singapore</th>\n",
       "      <td>0.008846</td>\n",
       "      <td>6.0</td>\n",
       "      <td>307.90</td>\n",
       "      <td>SGP</td>\n",
       "    </tr>\n",
       "    <tr>\n",
       "      <th>Malta</th>\n",
       "      <td>0.008280</td>\n",
       "      <td>28.5</td>\n",
       "      <td>10.57</td>\n",
       "      <td>MLT</td>\n",
       "    </tr>\n",
       "    <tr>\n",
       "      <th>Spain</th>\n",
       "      <td>0.008156</td>\n",
       "      <td>23.4</td>\n",
       "      <td>1400.00</td>\n",
       "      <td>ESP</td>\n",
       "    </tr>\n",
       "    <tr>\n",
       "      <th>Seychelles</th>\n",
       "      <td>0.008144</td>\n",
       "      <td>13.5</td>\n",
       "      <td>1.47</td>\n",
       "      <td>SYC</td>\n",
       "    </tr>\n",
       "    <tr>\n",
       "      <th>Belize</th>\n",
       "      <td>0.008129</td>\n",
       "      <td>23.6</td>\n",
       "      <td>1.67</td>\n",
       "      <td>BLZ</td>\n",
       "    </tr>\n",
       "    <tr>\n",
       "      <th>Kyrgyzstan</th>\n",
       "      <td>0.008026</td>\n",
       "      <td>16.0</td>\n",
       "      <td>7.65</td>\n",
       "      <td>KGZ</td>\n",
       "    </tr>\n",
       "    <tr>\n",
       "      <th>Argentina</th>\n",
       "      <td>0.007741</td>\n",
       "      <td>27.8</td>\n",
       "      <td>536.20</td>\n",
       "      <td>ARG</td>\n",
       "    </tr>\n",
       "    <tr>\n",
       "      <th>Ecuador</th>\n",
       "      <td>0.007383</td>\n",
       "      <td>19.4</td>\n",
       "      <td>100.50</td>\n",
       "      <td>ECU</td>\n",
       "    </tr>\n",
       "    <tr>\n",
       "      <th>Thailand</th>\n",
       "      <td>0.006864</td>\n",
       "      <td>9.4</td>\n",
       "      <td>373.80</td>\n",
       "      <td>THA</td>\n",
       "    </tr>\n",
       "    <tr>\n",
       "      <th>Italy</th>\n",
       "      <td>0.006862</td>\n",
       "      <td>19.6</td>\n",
       "      <td>2129.00</td>\n",
       "      <td>ITA</td>\n",
       "    </tr>\n",
       "    <tr>\n",
       "      <th>Brazil</th>\n",
       "      <td>0.005842</td>\n",
       "      <td>21.6</td>\n",
       "      <td>2244.00</td>\n",
       "      <td>BRA</td>\n",
       "    </tr>\n",
       "    <tr>\n",
       "      <th>Nicaragua</th>\n",
       "      <td>0.005752</td>\n",
       "      <td>23.1</td>\n",
       "      <td>11.85</td>\n",
       "      <td>NIC</td>\n",
       "    </tr>\n",
       "    <tr>\n",
       "      <th>Georgia</th>\n",
       "      <td>0.005552</td>\n",
       "      <td>21.1</td>\n",
       "      <td>16.13</td>\n",
       "      <td>GEO</td>\n",
       "    </tr>\n",
       "    <tr>\n",
       "      <th>Mexico</th>\n",
       "      <td>0.005451</td>\n",
       "      <td>28.3</td>\n",
       "      <td>1296.00</td>\n",
       "      <td>MEX</td>\n",
       "    </tr>\n",
       "    <tr>\n",
       "      <th>Colombia</th>\n",
       "      <td>0.005242</td>\n",
       "      <td>21.9</td>\n",
       "      <td>400.10</td>\n",
       "      <td>COL</td>\n",
       "    </tr>\n",
       "    <tr>\n",
       "      <th>Greece</th>\n",
       "      <td>0.005120</td>\n",
       "      <td>24.4</td>\n",
       "      <td>246.40</td>\n",
       "      <td>GRC</td>\n",
       "    </tr>\n",
       "    <tr>\n",
       "      <th>Cyprus</th>\n",
       "      <td>0.005025</td>\n",
       "      <td>21.4</td>\n",
       "      <td>21.34</td>\n",
       "      <td>CYP</td>\n",
       "    </tr>\n",
       "    <tr>\n",
       "      <th>Israel</th>\n",
       "      <td>0.004550</td>\n",
       "      <td>25.8</td>\n",
       "      <td>305.00</td>\n",
       "      <td>ISR</td>\n",
       "    </tr>\n",
       "    <tr>\n",
       "      <th>Guatemala</th>\n",
       "      <td>0.003465</td>\n",
       "      <td>20.6</td>\n",
       "      <td>58.30</td>\n",
       "      <td>GTM</td>\n",
       "    </tr>\n",
       "    <tr>\n",
       "      <th>Panama</th>\n",
       "      <td>0.003070</td>\n",
       "      <td>22.2</td>\n",
       "      <td>44.69</td>\n",
       "      <td>PAN</td>\n",
       "    </tr>\n",
       "    <tr>\n",
       "      <th>Qatar</th>\n",
       "      <td>0.002804</td>\n",
       "      <td>34.5</td>\n",
       "      <td>212.00</td>\n",
       "      <td>QAT</td>\n",
       "    </tr>\n",
       "    <tr>\n",
       "      <th>Turkmenistan</th>\n",
       "      <td>0.002722</td>\n",
       "      <td>18.0</td>\n",
       "      <td>43.50</td>\n",
       "      <td>TKM</td>\n",
       "    </tr>\n",
       "    <tr>\n",
       "      <th>Armenia</th>\n",
       "      <td>0.002647</td>\n",
       "      <td>19.7</td>\n",
       "      <td>10.88</td>\n",
       "      <td>ARM</td>\n",
       "    </tr>\n",
       "    <tr>\n",
       "      <th>Turkey</th>\n",
       "      <td>0.002131</td>\n",
       "      <td>31.5</td>\n",
       "      <td>813.30</td>\n",
       "      <td>TUR</td>\n",
       "    </tr>\n",
       "    <tr>\n",
       "      <th>Antigua and Barbuda</th>\n",
       "      <td>0.001088</td>\n",
       "      <td>18.4</td>\n",
       "      <td>1.24</td>\n",
       "      <td>ATG</td>\n",
       "    </tr>\n",
       "    <tr>\n",
       "      <th>South Africa</th>\n",
       "      <td>0.000971</td>\n",
       "      <td>27.8</td>\n",
       "      <td>341.20</td>\n",
       "      <td>ZAF</td>\n",
       "    </tr>\n",
       "    <tr>\n",
       "      <th>Grenada</th>\n",
       "      <td>0.000000</td>\n",
       "      <td>20.7</td>\n",
       "      <td>0.84</td>\n",
       "      <td>GRD</td>\n",
       "    </tr>\n",
       "  </tbody>\n",
       "</table>\n",
       "</div>"
      ],
      "text/plain": [
       "                     Percentage of Suicide  2015  GDP (BILLIONS) CODE\n",
       "Country                                                              \n",
       "Lithuania                         0.032535  26.0           48.72  LTU\n",
       "Slovenia                          0.021590  19.8           49.93  SVN\n",
       "Latvia                            0.020634  23.3           32.82  LVA\n",
       "Hungary                           0.019895  25.9          129.70  HUN\n",
       "Uruguay                           0.019744  27.5           55.60  URY\n",
       "Japan                             0.019183   4.1         4770.00  JPN\n",
       "Ukraine                           0.018773  23.7          134.90  UKR\n",
       "Croatia                           0.018467  23.9           57.18  HRV\n",
       "Kazakhstan                        0.018355  20.5          225.60  KAZ\n",
       "Belgium                           0.017573  21.7          527.80  BEL\n",
       "Serbia                            0.015695  21.1           42.65  SRB\n",
       "Estonia                           0.015682  20.9           26.36  EST\n",
       "Austria                           0.015220  19.7          436.10  AUT\n",
       "Poland                            0.015019  22.7          552.20  POL\n",
       "United States                     0.014726  35.6        17420.00  USA\n",
       "Finland                           0.014107  21.8          276.30  FIN\n",
       "Cuba                              0.013949  24.1           77.15  CUB\n",
       "Czech Republic                    0.013885  25.6          205.60  CZE\n",
       "Australia                         0.013610  28.4         1483.00  AUS\n",
       "Switzerland                       0.013595  19.1          679.00  CHE\n",
       "Sweden                            0.012968  20.2          559.10  SWE\n",
       "Iceland                           0.012964  21.5           16.20  ISL\n",
       "Germany                           0.012911  21.9         3820.00  DEU\n",
       "Norway                            0.012083  22.6          511.60  NOR\n",
       "Luxembourg                        0.011901  22.2           63.93  LUX\n",
       "Romania                           0.011811  22.1          199.00  ROU\n",
       "Netherlands                       0.011664  20.0          880.40  NLD\n",
       "Chile                             0.011095  27.5          264.10  CHL\n",
       "Denmark                           0.010477  19.3          347.20  DNK\n",
       "Mauritius                         0.009006  10.5           12.72  MUS\n",
       "Singapore                         0.008846   6.0          307.90  SGP\n",
       "Malta                             0.008280  28.5           10.57  MLT\n",
       "Spain                             0.008156  23.4         1400.00  ESP\n",
       "Seychelles                        0.008144  13.5            1.47  SYC\n",
       "Belize                            0.008129  23.6            1.67  BLZ\n",
       "Kyrgyzstan                        0.008026  16.0            7.65  KGZ\n",
       "Argentina                         0.007741  27.8          536.20  ARG\n",
       "Ecuador                           0.007383  19.4          100.50  ECU\n",
       "Thailand                          0.006864   9.4          373.80  THA\n",
       "Italy                             0.006862  19.6         2129.00  ITA\n",
       "Brazil                            0.005842  21.6         2244.00  BRA\n",
       "Nicaragua                         0.005752  23.1           11.85  NIC\n",
       "Georgia                           0.005552  21.1           16.13  GEO\n",
       "Mexico                            0.005451  28.3         1296.00  MEX\n",
       "Colombia                          0.005242  21.9          400.10  COL\n",
       "Greece                            0.005120  24.4          246.40  GRC\n",
       "Cyprus                            0.005025  21.4           21.34  CYP\n",
       "Israel                            0.004550  25.8          305.00  ISR\n",
       "Guatemala                         0.003465  20.6           58.30  GTM\n",
       "Panama                            0.003070  22.2           44.69  PAN\n",
       "Qatar                             0.002804  34.5          212.00  QAT\n",
       "Turkmenistan                      0.002722  18.0           43.50  TKM\n",
       "Armenia                           0.002647  19.7           10.88  ARM\n",
       "Turkey                            0.002131  31.5          813.30  TUR\n",
       "Antigua and Barbuda               0.001088  18.4            1.24  ATG\n",
       "South Africa                      0.000971  27.8          341.20  ZAF\n",
       "Grenada                           0.000000  20.7            0.84  GRD"
      ]
     },
     "execution_count": 24,
     "metadata": {},
     "output_type": "execute_result"
    }
   ],
   "source": [
    "suicide_obesity_2015"
   ]
  },
  {
   "cell_type": "code",
   "execution_count": 31,
   "metadata": {},
   "outputs": [
    {
     "data": {
      "application/vnd.plotly.v1+json": {
       "config": {
        "plotlyServerURL": "https://plot.ly"
       },
       "data": [
        {
         "mode": "markers",
         "type": "scatter",
         "x": [
          26,
          4.5,
          19.8,
          23.3,
          25.9,
          27.5,
          4.1,
          23.7,
          22.8,
          23.9,
          20.5,
          21.7,
          21.1,
          20.9,
          19.7,
          22.7,
          35.6,
          21.8,
          24.1,
          25.6,
          28.4,
          19.1,
          20.2,
          21.5,
          21.9,
          22.6,
          22.2,
          22.1,
          20,
          27.5,
          19.3,
          10.5,
          6,
          28.5,
          23.4,
          13.5,
          23.6,
          null,
          16,
          27.8,
          19.4,
          9.4,
          19.6,
          null,
          21.6,
          23.1,
          21.1,
          28.3,
          21.9,
          24.4,
          21.4,
          25.8,
          20.6,
          22.2,
          null,
          34.5,
          18,
          19.7,
          31.5,
          18.4,
          27.8,
          20.7
         ],
         "y": [
          0.0325353695052082,
          0.02775737351718919,
          0.021589741700739577,
          0.02063425542329016,
          0.019894522818474515,
          0.019744295700601263,
          0.0191831764904573,
          0.018772874638689083,
          0.018560937227489777,
          0.018467294521360963,
          0.018355247146500442,
          0.017572829826108992,
          0.015695185893367908,
          0.015682174594877155,
          0.015220114981824675,
          0.015019435898253018,
          0.014725812872351932,
          0.014107075209623225,
          0.013949321588453837,
          0.013884822047535744,
          0.013610131117224505,
          0.01359518185741353,
          0.012968312991440913,
          0.012963695171671731,
          0.012910709301545344,
          0.012082961202021172,
          0.011901485454153246,
          0.011810902364072971,
          0.011664446083293235,
          0.01109519806709335,
          0.010477312160741287,
          0.009005514145584526,
          0.008846190558775406,
          0.008279818915489838,
          0.008156332174367717,
          0.008144364681380821,
          0.008129191614426188,
          0.008038250678888387,
          0.0080256713705056,
          0.007740627467907504,
          0.007382676676466202,
          0.0068640424662391964,
          0.006861937423294664,
          0.0065138674762308686,
          0.005841839075623557,
          0.005751866663331193,
          0.005551700208188758,
          0.005451307581032192,
          0.005241577025098006,
          0.005120369332530335,
          0.005024892059037457,
          0.004550183736951484,
          0.003464625090744773,
          0.003069725750701432,
          0.0029718270792883465,
          0.0028035632439265693,
          0.00272177671035016,
          0.002647267679902409,
          0.002131316236355959,
          0.0010882695426003113,
          0.000971236488830982,
          0
         ]
        }
       ],
       "layout": {
        "template": {
         "data": {
          "bar": [
           {
            "error_x": {
             "color": "#2a3f5f"
            },
            "error_y": {
             "color": "#2a3f5f"
            },
            "marker": {
             "line": {
              "color": "#E5ECF6",
              "width": 0.5
             }
            },
            "type": "bar"
           }
          ],
          "barpolar": [
           {
            "marker": {
             "line": {
              "color": "#E5ECF6",
              "width": 0.5
             }
            },
            "type": "barpolar"
           }
          ],
          "carpet": [
           {
            "aaxis": {
             "endlinecolor": "#2a3f5f",
             "gridcolor": "white",
             "linecolor": "white",
             "minorgridcolor": "white",
             "startlinecolor": "#2a3f5f"
            },
            "baxis": {
             "endlinecolor": "#2a3f5f",
             "gridcolor": "white",
             "linecolor": "white",
             "minorgridcolor": "white",
             "startlinecolor": "#2a3f5f"
            },
            "type": "carpet"
           }
          ],
          "choropleth": [
           {
            "colorbar": {
             "outlinewidth": 0,
             "ticks": ""
            },
            "type": "choropleth"
           }
          ],
          "contour": [
           {
            "colorbar": {
             "outlinewidth": 0,
             "ticks": ""
            },
            "colorscale": [
             [
              0,
              "#0d0887"
             ],
             [
              0.1111111111111111,
              "#46039f"
             ],
             [
              0.2222222222222222,
              "#7201a8"
             ],
             [
              0.3333333333333333,
              "#9c179e"
             ],
             [
              0.4444444444444444,
              "#bd3786"
             ],
             [
              0.5555555555555556,
              "#d8576b"
             ],
             [
              0.6666666666666666,
              "#ed7953"
             ],
             [
              0.7777777777777778,
              "#fb9f3a"
             ],
             [
              0.8888888888888888,
              "#fdca26"
             ],
             [
              1,
              "#f0f921"
             ]
            ],
            "type": "contour"
           }
          ],
          "contourcarpet": [
           {
            "colorbar": {
             "outlinewidth": 0,
             "ticks": ""
            },
            "type": "contourcarpet"
           }
          ],
          "heatmap": [
           {
            "colorbar": {
             "outlinewidth": 0,
             "ticks": ""
            },
            "colorscale": [
             [
              0,
              "#0d0887"
             ],
             [
              0.1111111111111111,
              "#46039f"
             ],
             [
              0.2222222222222222,
              "#7201a8"
             ],
             [
              0.3333333333333333,
              "#9c179e"
             ],
             [
              0.4444444444444444,
              "#bd3786"
             ],
             [
              0.5555555555555556,
              "#d8576b"
             ],
             [
              0.6666666666666666,
              "#ed7953"
             ],
             [
              0.7777777777777778,
              "#fb9f3a"
             ],
             [
              0.8888888888888888,
              "#fdca26"
             ],
             [
              1,
              "#f0f921"
             ]
            ],
            "type": "heatmap"
           }
          ],
          "heatmapgl": [
           {
            "colorbar": {
             "outlinewidth": 0,
             "ticks": ""
            },
            "colorscale": [
             [
              0,
              "#0d0887"
             ],
             [
              0.1111111111111111,
              "#46039f"
             ],
             [
              0.2222222222222222,
              "#7201a8"
             ],
             [
              0.3333333333333333,
              "#9c179e"
             ],
             [
              0.4444444444444444,
              "#bd3786"
             ],
             [
              0.5555555555555556,
              "#d8576b"
             ],
             [
              0.6666666666666666,
              "#ed7953"
             ],
             [
              0.7777777777777778,
              "#fb9f3a"
             ],
             [
              0.8888888888888888,
              "#fdca26"
             ],
             [
              1,
              "#f0f921"
             ]
            ],
            "type": "heatmapgl"
           }
          ],
          "histogram": [
           {
            "marker": {
             "colorbar": {
              "outlinewidth": 0,
              "ticks": ""
             }
            },
            "type": "histogram"
           }
          ],
          "histogram2d": [
           {
            "colorbar": {
             "outlinewidth": 0,
             "ticks": ""
            },
            "colorscale": [
             [
              0,
              "#0d0887"
             ],
             [
              0.1111111111111111,
              "#46039f"
             ],
             [
              0.2222222222222222,
              "#7201a8"
             ],
             [
              0.3333333333333333,
              "#9c179e"
             ],
             [
              0.4444444444444444,
              "#bd3786"
             ],
             [
              0.5555555555555556,
              "#d8576b"
             ],
             [
              0.6666666666666666,
              "#ed7953"
             ],
             [
              0.7777777777777778,
              "#fb9f3a"
             ],
             [
              0.8888888888888888,
              "#fdca26"
             ],
             [
              1,
              "#f0f921"
             ]
            ],
            "type": "histogram2d"
           }
          ],
          "histogram2dcontour": [
           {
            "colorbar": {
             "outlinewidth": 0,
             "ticks": ""
            },
            "colorscale": [
             [
              0,
              "#0d0887"
             ],
             [
              0.1111111111111111,
              "#46039f"
             ],
             [
              0.2222222222222222,
              "#7201a8"
             ],
             [
              0.3333333333333333,
              "#9c179e"
             ],
             [
              0.4444444444444444,
              "#bd3786"
             ],
             [
              0.5555555555555556,
              "#d8576b"
             ],
             [
              0.6666666666666666,
              "#ed7953"
             ],
             [
              0.7777777777777778,
              "#fb9f3a"
             ],
             [
              0.8888888888888888,
              "#fdca26"
             ],
             [
              1,
              "#f0f921"
             ]
            ],
            "type": "histogram2dcontour"
           }
          ],
          "mesh3d": [
           {
            "colorbar": {
             "outlinewidth": 0,
             "ticks": ""
            },
            "type": "mesh3d"
           }
          ],
          "parcoords": [
           {
            "line": {
             "colorbar": {
              "outlinewidth": 0,
              "ticks": ""
             }
            },
            "type": "parcoords"
           }
          ],
          "scatter": [
           {
            "marker": {
             "colorbar": {
              "outlinewidth": 0,
              "ticks": ""
             }
            },
            "type": "scatter"
           }
          ],
          "scatter3d": [
           {
            "line": {
             "colorbar": {
              "outlinewidth": 0,
              "ticks": ""
             }
            },
            "marker": {
             "colorbar": {
              "outlinewidth": 0,
              "ticks": ""
             }
            },
            "type": "scatter3d"
           }
          ],
          "scattercarpet": [
           {
            "marker": {
             "colorbar": {
              "outlinewidth": 0,
              "ticks": ""
             }
            },
            "type": "scattercarpet"
           }
          ],
          "scattergeo": [
           {
            "marker": {
             "colorbar": {
              "outlinewidth": 0,
              "ticks": ""
             }
            },
            "type": "scattergeo"
           }
          ],
          "scattergl": [
           {
            "marker": {
             "colorbar": {
              "outlinewidth": 0,
              "ticks": ""
             }
            },
            "type": "scattergl"
           }
          ],
          "scattermapbox": [
           {
            "marker": {
             "colorbar": {
              "outlinewidth": 0,
              "ticks": ""
             }
            },
            "type": "scattermapbox"
           }
          ],
          "scatterpolar": [
           {
            "marker": {
             "colorbar": {
              "outlinewidth": 0,
              "ticks": ""
             }
            },
            "type": "scatterpolar"
           }
          ],
          "scatterpolargl": [
           {
            "marker": {
             "colorbar": {
              "outlinewidth": 0,
              "ticks": ""
             }
            },
            "type": "scatterpolargl"
           }
          ],
          "scatterternary": [
           {
            "marker": {
             "colorbar": {
              "outlinewidth": 0,
              "ticks": ""
             }
            },
            "type": "scatterternary"
           }
          ],
          "surface": [
           {
            "colorbar": {
             "outlinewidth": 0,
             "ticks": ""
            },
            "colorscale": [
             [
              0,
              "#0d0887"
             ],
             [
              0.1111111111111111,
              "#46039f"
             ],
             [
              0.2222222222222222,
              "#7201a8"
             ],
             [
              0.3333333333333333,
              "#9c179e"
             ],
             [
              0.4444444444444444,
              "#bd3786"
             ],
             [
              0.5555555555555556,
              "#d8576b"
             ],
             [
              0.6666666666666666,
              "#ed7953"
             ],
             [
              0.7777777777777778,
              "#fb9f3a"
             ],
             [
              0.8888888888888888,
              "#fdca26"
             ],
             [
              1,
              "#f0f921"
             ]
            ],
            "type": "surface"
           }
          ],
          "table": [
           {
            "cells": {
             "fill": {
              "color": "#EBF0F8"
             },
             "line": {
              "color": "white"
             }
            },
            "header": {
             "fill": {
              "color": "#C8D4E3"
             },
             "line": {
              "color": "white"
             }
            },
            "type": "table"
           }
          ]
         },
         "layout": {
          "annotationdefaults": {
           "arrowcolor": "#2a3f5f",
           "arrowhead": 0,
           "arrowwidth": 1
          },
          "colorscale": {
           "diverging": [
            [
             0,
             "#8e0152"
            ],
            [
             0.1,
             "#c51b7d"
            ],
            [
             0.2,
             "#de77ae"
            ],
            [
             0.3,
             "#f1b6da"
            ],
            [
             0.4,
             "#fde0ef"
            ],
            [
             0.5,
             "#f7f7f7"
            ],
            [
             0.6,
             "#e6f5d0"
            ],
            [
             0.7,
             "#b8e186"
            ],
            [
             0.8,
             "#7fbc41"
            ],
            [
             0.9,
             "#4d9221"
            ],
            [
             1,
             "#276419"
            ]
           ],
           "sequential": [
            [
             0,
             "#0d0887"
            ],
            [
             0.1111111111111111,
             "#46039f"
            ],
            [
             0.2222222222222222,
             "#7201a8"
            ],
            [
             0.3333333333333333,
             "#9c179e"
            ],
            [
             0.4444444444444444,
             "#bd3786"
            ],
            [
             0.5555555555555556,
             "#d8576b"
            ],
            [
             0.6666666666666666,
             "#ed7953"
            ],
            [
             0.7777777777777778,
             "#fb9f3a"
            ],
            [
             0.8888888888888888,
             "#fdca26"
            ],
            [
             1,
             "#f0f921"
            ]
           ],
           "sequentialminus": [
            [
             0,
             "#0d0887"
            ],
            [
             0.1111111111111111,
             "#46039f"
            ],
            [
             0.2222222222222222,
             "#7201a8"
            ],
            [
             0.3333333333333333,
             "#9c179e"
            ],
            [
             0.4444444444444444,
             "#bd3786"
            ],
            [
             0.5555555555555556,
             "#d8576b"
            ],
            [
             0.6666666666666666,
             "#ed7953"
            ],
            [
             0.7777777777777778,
             "#fb9f3a"
            ],
            [
             0.8888888888888888,
             "#fdca26"
            ],
            [
             1,
             "#f0f921"
            ]
           ]
          },
          "colorway": [
           "#636efa",
           "#EF553B",
           "#00cc96",
           "#ab63fa",
           "#FFA15A",
           "#19d3f3",
           "#FF6692",
           "#B6E880",
           "#FF97FF",
           "#FECB52"
          ],
          "font": {
           "color": "#2a3f5f"
          },
          "geo": {
           "bgcolor": "white",
           "lakecolor": "white",
           "landcolor": "#E5ECF6",
           "showlakes": true,
           "showland": true,
           "subunitcolor": "white"
          },
          "hoverlabel": {
           "align": "left"
          },
          "hovermode": "closest",
          "mapbox": {
           "style": "light"
          },
          "paper_bgcolor": "white",
          "plot_bgcolor": "#E5ECF6",
          "polar": {
           "angularaxis": {
            "gridcolor": "white",
            "linecolor": "white",
            "ticks": ""
           },
           "bgcolor": "#E5ECF6",
           "radialaxis": {
            "gridcolor": "white",
            "linecolor": "white",
            "ticks": ""
           }
          },
          "scene": {
           "xaxis": {
            "backgroundcolor": "#E5ECF6",
            "gridcolor": "white",
            "gridwidth": 2,
            "linecolor": "white",
            "showbackground": true,
            "ticks": "",
            "zerolinecolor": "white"
           },
           "yaxis": {
            "backgroundcolor": "#E5ECF6",
            "gridcolor": "white",
            "gridwidth": 2,
            "linecolor": "white",
            "showbackground": true,
            "ticks": "",
            "zerolinecolor": "white"
           },
           "zaxis": {
            "backgroundcolor": "#E5ECF6",
            "gridcolor": "white",
            "gridwidth": 2,
            "linecolor": "white",
            "showbackground": true,
            "ticks": "",
            "zerolinecolor": "white"
           }
          },
          "shapedefaults": {
           "line": {
            "color": "#2a3f5f"
           }
          },
          "ternary": {
           "aaxis": {
            "gridcolor": "white",
            "linecolor": "white",
            "ticks": ""
           },
           "baxis": {
            "gridcolor": "white",
            "linecolor": "white",
            "ticks": ""
           },
           "bgcolor": "#E5ECF6",
           "caxis": {
            "gridcolor": "white",
            "linecolor": "white",
            "ticks": ""
           }
          },
          "title": {
           "x": 0.05
          },
          "xaxis": {
           "automargin": true,
           "gridcolor": "white",
           "linecolor": "white",
           "ticks": "",
           "zerolinecolor": "white",
           "zerolinewidth": 2
          },
          "yaxis": {
           "automargin": true,
           "gridcolor": "white",
           "linecolor": "white",
           "ticks": "",
           "zerolinecolor": "white",
           "zerolinewidth": 2
          }
         }
        },
        "title": {
         "text": "Relationship between Obesity Rates and Suicides per Country 2015"
        },
        "xaxis": {
         "title": {
          "text": "Obesity Rates"
         }
        },
        "yaxis": {
         "title": {
          "text": "Percentage of Suicides"
         }
        }
       }
      },
      "text/html": [
       "<div>\n",
       "        \n",
       "        \n",
       "            <div id=\"8b0efc83-63c0-405e-9992-684b211f5665\" class=\"plotly-graph-div\" style=\"height:525px; width:100%;\"></div>\n",
       "            <script type=\"text/javascript\">\n",
       "                require([\"plotly\"], function(Plotly) {\n",
       "                    window.PLOTLYENV=window.PLOTLYENV || {};\n",
       "                    \n",
       "                if (document.getElementById(\"8b0efc83-63c0-405e-9992-684b211f5665\")) {\n",
       "                    Plotly.newPlot(\n",
       "                        '8b0efc83-63c0-405e-9992-684b211f5665',\n",
       "                        [{\"mode\": \"markers\", \"type\": \"scatter\", \"x\": [26.0, 4.5, 19.8, 23.3, 25.9, 27.5, 4.1, 23.7, 22.8, 23.9, 20.5, 21.7, 21.1, 20.9, 19.7, 22.7, 35.6, 21.8, 24.1, 25.6, 28.4, 19.1, 20.2, 21.5, 21.9, 22.6, 22.2, 22.1, 20.0, 27.5, 19.3, 10.5, 6.0, 28.5, 23.4, 13.5, 23.6, null, 16.0, 27.8, 19.4, 9.4, 19.6, null, 21.6, 23.1, 21.1, 28.3, 21.9, 24.4, 21.4, 25.8, 20.6, 22.2, null, 34.5, 18.0, 19.7, 31.5, 18.4, 27.8, 20.7], \"y\": [0.0325353695052082, 0.02775737351718919, 0.021589741700739577, 0.02063425542329016, 0.019894522818474515, 0.019744295700601263, 0.0191831764904573, 0.018772874638689083, 0.018560937227489777, 0.018467294521360963, 0.018355247146500442, 0.017572829826108992, 0.015695185893367908, 0.015682174594877155, 0.015220114981824675, 0.015019435898253018, 0.014725812872351932, 0.014107075209623225, 0.013949321588453837, 0.013884822047535744, 0.013610131117224505, 0.01359518185741353, 0.012968312991440913, 0.012963695171671731, 0.012910709301545344, 0.012082961202021172, 0.011901485454153246, 0.011810902364072971, 0.011664446083293235, 0.01109519806709335, 0.010477312160741287, 0.009005514145584526, 0.008846190558775406, 0.008279818915489838, 0.008156332174367717, 0.008144364681380821, 0.008129191614426188, 0.008038250678888387, 0.0080256713705056, 0.007740627467907504, 0.007382676676466202, 0.0068640424662391964, 0.006861937423294664, 0.0065138674762308686, 0.005841839075623557, 0.005751866663331193, 0.005551700208188758, 0.005451307581032192, 0.005241577025098006, 0.005120369332530335, 0.005024892059037457, 0.004550183736951484, 0.003464625090744773, 0.003069725750701432, 0.0029718270792883465, 0.0028035632439265693, 0.00272177671035016, 0.002647267679902409, 0.002131316236355959, 0.0010882695426003113, 0.000971236488830982, 0.0]}],\n",
       "                        {\"template\": {\"data\": {\"bar\": [{\"error_x\": {\"color\": \"#2a3f5f\"}, \"error_y\": {\"color\": \"#2a3f5f\"}, \"marker\": {\"line\": {\"color\": \"#E5ECF6\", \"width\": 0.5}}, \"type\": \"bar\"}], \"barpolar\": [{\"marker\": {\"line\": {\"color\": \"#E5ECF6\", \"width\": 0.5}}, \"type\": \"barpolar\"}], \"carpet\": [{\"aaxis\": {\"endlinecolor\": \"#2a3f5f\", \"gridcolor\": \"white\", \"linecolor\": \"white\", \"minorgridcolor\": \"white\", \"startlinecolor\": \"#2a3f5f\"}, \"baxis\": {\"endlinecolor\": \"#2a3f5f\", \"gridcolor\": \"white\", \"linecolor\": \"white\", \"minorgridcolor\": \"white\", \"startlinecolor\": \"#2a3f5f\"}, \"type\": \"carpet\"}], \"choropleth\": [{\"colorbar\": {\"outlinewidth\": 0, \"ticks\": \"\"}, \"type\": \"choropleth\"}], \"contour\": [{\"colorbar\": {\"outlinewidth\": 0, \"ticks\": \"\"}, \"colorscale\": [[0.0, \"#0d0887\"], [0.1111111111111111, \"#46039f\"], [0.2222222222222222, \"#7201a8\"], [0.3333333333333333, \"#9c179e\"], [0.4444444444444444, \"#bd3786\"], [0.5555555555555556, \"#d8576b\"], [0.6666666666666666, \"#ed7953\"], [0.7777777777777778, \"#fb9f3a\"], [0.8888888888888888, \"#fdca26\"], [1.0, \"#f0f921\"]], \"type\": \"contour\"}], \"contourcarpet\": [{\"colorbar\": {\"outlinewidth\": 0, \"ticks\": \"\"}, \"type\": \"contourcarpet\"}], \"heatmap\": [{\"colorbar\": {\"outlinewidth\": 0, \"ticks\": \"\"}, \"colorscale\": [[0.0, \"#0d0887\"], [0.1111111111111111, \"#46039f\"], [0.2222222222222222, \"#7201a8\"], [0.3333333333333333, \"#9c179e\"], [0.4444444444444444, \"#bd3786\"], [0.5555555555555556, \"#d8576b\"], [0.6666666666666666, \"#ed7953\"], [0.7777777777777778, \"#fb9f3a\"], [0.8888888888888888, \"#fdca26\"], [1.0, \"#f0f921\"]], \"type\": \"heatmap\"}], \"heatmapgl\": [{\"colorbar\": {\"outlinewidth\": 0, \"ticks\": \"\"}, \"colorscale\": [[0.0, \"#0d0887\"], [0.1111111111111111, \"#46039f\"], [0.2222222222222222, \"#7201a8\"], [0.3333333333333333, \"#9c179e\"], [0.4444444444444444, \"#bd3786\"], [0.5555555555555556, \"#d8576b\"], [0.6666666666666666, \"#ed7953\"], [0.7777777777777778, \"#fb9f3a\"], [0.8888888888888888, \"#fdca26\"], [1.0, \"#f0f921\"]], \"type\": \"heatmapgl\"}], \"histogram\": [{\"marker\": {\"colorbar\": {\"outlinewidth\": 0, \"ticks\": \"\"}}, \"type\": \"histogram\"}], \"histogram2d\": [{\"colorbar\": {\"outlinewidth\": 0, \"ticks\": \"\"}, \"colorscale\": [[0.0, \"#0d0887\"], [0.1111111111111111, \"#46039f\"], [0.2222222222222222, \"#7201a8\"], [0.3333333333333333, \"#9c179e\"], [0.4444444444444444, \"#bd3786\"], [0.5555555555555556, \"#d8576b\"], [0.6666666666666666, \"#ed7953\"], [0.7777777777777778, \"#fb9f3a\"], [0.8888888888888888, \"#fdca26\"], [1.0, \"#f0f921\"]], \"type\": \"histogram2d\"}], \"histogram2dcontour\": [{\"colorbar\": {\"outlinewidth\": 0, \"ticks\": \"\"}, \"colorscale\": [[0.0, \"#0d0887\"], [0.1111111111111111, \"#46039f\"], [0.2222222222222222, \"#7201a8\"], [0.3333333333333333, \"#9c179e\"], [0.4444444444444444, \"#bd3786\"], [0.5555555555555556, \"#d8576b\"], [0.6666666666666666, \"#ed7953\"], [0.7777777777777778, \"#fb9f3a\"], [0.8888888888888888, \"#fdca26\"], [1.0, \"#f0f921\"]], \"type\": \"histogram2dcontour\"}], \"mesh3d\": [{\"colorbar\": {\"outlinewidth\": 0, \"ticks\": \"\"}, \"type\": \"mesh3d\"}], \"parcoords\": [{\"line\": {\"colorbar\": {\"outlinewidth\": 0, \"ticks\": \"\"}}, \"type\": \"parcoords\"}], \"scatter\": [{\"marker\": {\"colorbar\": {\"outlinewidth\": 0, \"ticks\": \"\"}}, \"type\": \"scatter\"}], \"scatter3d\": [{\"line\": {\"colorbar\": {\"outlinewidth\": 0, \"ticks\": \"\"}}, \"marker\": {\"colorbar\": {\"outlinewidth\": 0, \"ticks\": \"\"}}, \"type\": \"scatter3d\"}], \"scattercarpet\": [{\"marker\": {\"colorbar\": {\"outlinewidth\": 0, \"ticks\": \"\"}}, \"type\": \"scattercarpet\"}], \"scattergeo\": [{\"marker\": {\"colorbar\": {\"outlinewidth\": 0, \"ticks\": \"\"}}, \"type\": \"scattergeo\"}], \"scattergl\": [{\"marker\": {\"colorbar\": {\"outlinewidth\": 0, \"ticks\": \"\"}}, \"type\": \"scattergl\"}], \"scattermapbox\": [{\"marker\": {\"colorbar\": {\"outlinewidth\": 0, \"ticks\": \"\"}}, \"type\": \"scattermapbox\"}], \"scatterpolar\": [{\"marker\": {\"colorbar\": {\"outlinewidth\": 0, \"ticks\": \"\"}}, \"type\": \"scatterpolar\"}], \"scatterpolargl\": [{\"marker\": {\"colorbar\": {\"outlinewidth\": 0, \"ticks\": \"\"}}, \"type\": \"scatterpolargl\"}], \"scatterternary\": [{\"marker\": {\"colorbar\": {\"outlinewidth\": 0, \"ticks\": \"\"}}, \"type\": \"scatterternary\"}], \"surface\": [{\"colorbar\": {\"outlinewidth\": 0, \"ticks\": \"\"}, \"colorscale\": [[0.0, \"#0d0887\"], [0.1111111111111111, \"#46039f\"], [0.2222222222222222, \"#7201a8\"], [0.3333333333333333, \"#9c179e\"], [0.4444444444444444, \"#bd3786\"], [0.5555555555555556, \"#d8576b\"], [0.6666666666666666, \"#ed7953\"], [0.7777777777777778, \"#fb9f3a\"], [0.8888888888888888, \"#fdca26\"], [1.0, \"#f0f921\"]], \"type\": \"surface\"}], \"table\": [{\"cells\": {\"fill\": {\"color\": \"#EBF0F8\"}, \"line\": {\"color\": \"white\"}}, \"header\": {\"fill\": {\"color\": \"#C8D4E3\"}, \"line\": {\"color\": \"white\"}}, \"type\": \"table\"}]}, \"layout\": {\"annotationdefaults\": {\"arrowcolor\": \"#2a3f5f\", \"arrowhead\": 0, \"arrowwidth\": 1}, \"colorscale\": {\"diverging\": [[0, \"#8e0152\"], [0.1, \"#c51b7d\"], [0.2, \"#de77ae\"], [0.3, \"#f1b6da\"], [0.4, \"#fde0ef\"], [0.5, \"#f7f7f7\"], [0.6, \"#e6f5d0\"], [0.7, \"#b8e186\"], [0.8, \"#7fbc41\"], [0.9, \"#4d9221\"], [1, \"#276419\"]], \"sequential\": [[0.0, \"#0d0887\"], [0.1111111111111111, \"#46039f\"], [0.2222222222222222, \"#7201a8\"], [0.3333333333333333, \"#9c179e\"], [0.4444444444444444, \"#bd3786\"], [0.5555555555555556, \"#d8576b\"], [0.6666666666666666, \"#ed7953\"], [0.7777777777777778, \"#fb9f3a\"], [0.8888888888888888, \"#fdca26\"], [1.0, \"#f0f921\"]], \"sequentialminus\": [[0.0, \"#0d0887\"], [0.1111111111111111, \"#46039f\"], [0.2222222222222222, \"#7201a8\"], [0.3333333333333333, \"#9c179e\"], [0.4444444444444444, \"#bd3786\"], [0.5555555555555556, \"#d8576b\"], [0.6666666666666666, \"#ed7953\"], [0.7777777777777778, \"#fb9f3a\"], [0.8888888888888888, \"#fdca26\"], [1.0, \"#f0f921\"]]}, \"colorway\": [\"#636efa\", \"#EF553B\", \"#00cc96\", \"#ab63fa\", \"#FFA15A\", \"#19d3f3\", \"#FF6692\", \"#B6E880\", \"#FF97FF\", \"#FECB52\"], \"font\": {\"color\": \"#2a3f5f\"}, \"geo\": {\"bgcolor\": \"white\", \"lakecolor\": \"white\", \"landcolor\": \"#E5ECF6\", \"showlakes\": true, \"showland\": true, \"subunitcolor\": \"white\"}, \"hoverlabel\": {\"align\": \"left\"}, \"hovermode\": \"closest\", \"mapbox\": {\"style\": \"light\"}, \"paper_bgcolor\": \"white\", \"plot_bgcolor\": \"#E5ECF6\", \"polar\": {\"angularaxis\": {\"gridcolor\": \"white\", \"linecolor\": \"white\", \"ticks\": \"\"}, \"bgcolor\": \"#E5ECF6\", \"radialaxis\": {\"gridcolor\": \"white\", \"linecolor\": \"white\", \"ticks\": \"\"}}, \"scene\": {\"xaxis\": {\"backgroundcolor\": \"#E5ECF6\", \"gridcolor\": \"white\", \"gridwidth\": 2, \"linecolor\": \"white\", \"showbackground\": true, \"ticks\": \"\", \"zerolinecolor\": \"white\"}, \"yaxis\": {\"backgroundcolor\": \"#E5ECF6\", \"gridcolor\": \"white\", \"gridwidth\": 2, \"linecolor\": \"white\", \"showbackground\": true, \"ticks\": \"\", \"zerolinecolor\": \"white\"}, \"zaxis\": {\"backgroundcolor\": \"#E5ECF6\", \"gridcolor\": \"white\", \"gridwidth\": 2, \"linecolor\": \"white\", \"showbackground\": true, \"ticks\": \"\", \"zerolinecolor\": \"white\"}}, \"shapedefaults\": {\"line\": {\"color\": \"#2a3f5f\"}}, \"ternary\": {\"aaxis\": {\"gridcolor\": \"white\", \"linecolor\": \"white\", \"ticks\": \"\"}, \"baxis\": {\"gridcolor\": \"white\", \"linecolor\": \"white\", \"ticks\": \"\"}, \"bgcolor\": \"#E5ECF6\", \"caxis\": {\"gridcolor\": \"white\", \"linecolor\": \"white\", \"ticks\": \"\"}}, \"title\": {\"x\": 0.05}, \"xaxis\": {\"automargin\": true, \"gridcolor\": \"white\", \"linecolor\": \"white\", \"ticks\": \"\", \"zerolinecolor\": \"white\", \"zerolinewidth\": 2}, \"yaxis\": {\"automargin\": true, \"gridcolor\": \"white\", \"linecolor\": \"white\", \"ticks\": \"\", \"zerolinecolor\": \"white\", \"zerolinewidth\": 2}}}, \"title\": {\"text\": \"Relationship between Obesity Rates and Suicides per Country 2015\"}, \"xaxis\": {\"title\": {\"text\": \"Obesity Rates\"}}, \"yaxis\": {\"title\": {\"text\": \"Percentage of Suicides\"}}},\n",
       "                        {\"responsive\": true}\n",
       "                    ).then(function(){\n",
       "                            \n",
       "var gd = document.getElementById('8b0efc83-63c0-405e-9992-684b211f5665');\n",
       "var x = new MutationObserver(function (mutations, observer) {{\n",
       "        var display = window.getComputedStyle(gd).display;\n",
       "        if (!display || display === 'none') {{\n",
       "            console.log([gd, 'removed!']);\n",
       "            Plotly.purge(gd);\n",
       "            observer.disconnect();\n",
       "        }}\n",
       "}});\n",
       "\n",
       "// Listen for the removal of the full notebook cells\n",
       "var notebookContainer = gd.closest('#notebook-container');\n",
       "if (notebookContainer) {{\n",
       "    x.observe(notebookContainer, {childList: true});\n",
       "}}\n",
       "\n",
       "// Listen for the clearing of the current output cell\n",
       "var outputEl = gd.closest('.output');\n",
       "if (outputEl) {{\n",
       "    x.observe(outputEl, {childList: true});\n",
       "}}\n",
       "\n",
       "                        })\n",
       "                };\n",
       "                });\n",
       "            </script>\n",
       "        </div>"
      ]
     },
     "metadata": {},
     "output_type": "display_data"
    }
   ],
   "source": [
    "# Plot scatter plot showing relationship between obesity and suicide\n",
    "import plotly.graph_objects as go\n",
    "fig = go.Figure(data=go.Scatter(y=suicide_obesity_2015['Percentage of Suicide'],x=suicide_obesity_2015['2015'], mode='markers'))\n",
    "\n",
    "fig.update_layout(title='Relationship between Obesity Rates and Suicides per Country 2015', xaxis_title='Obesity Rates', yaxis_title='Percentage of Suicides')\n",
    "fig.show()"
   ]
  },
  {
   "cell_type": "code",
   "execution_count": 32,
   "metadata": {},
   "outputs": [],
   "source": [
    "fig.write_image(\"images/Relationship_between_Obesity_Rates_and_Suicides_per_Country_2015.png\")"
   ]
  },
  {
   "cell_type": "code",
   "execution_count": null,
   "metadata": {},
   "outputs": [],
   "source": []
  }
 ],
 "metadata": {
  "kernelspec": {
   "display_name": "Python 3",
   "language": "python",
   "name": "python3"
  },
  "language_info": {
   "codemirror_mode": {
    "name": "ipython",
    "version": 3
   },
   "file_extension": ".py",
   "mimetype": "text/x-python",
   "name": "python",
   "nbconvert_exporter": "python",
   "pygments_lexer": "ipython3",
   "version": "3.7.3"
  }
 },
 "nbformat": 4,
 "nbformat_minor": 2
}
